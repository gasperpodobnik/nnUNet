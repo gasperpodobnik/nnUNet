{
 "cells": [
  {
   "cell_type": "code",
   "execution_count": 3,
   "metadata": {},
   "outputs": [],
   "source": [
    "from skimage import measure\n",
    "from pathlib import Path\n",
    "from typing import Union\n",
    "\n",
    "import SimpleITK as sitk\n",
    "import matplotlib.pyplot as plt\n",
    "import seaborn as sns\n",
    "import numpy as np\n",
    "import pandas as pd\n",
    "import itertools\n",
    "import os\n",
    "from os.path import join"
   ]
  },
  {
   "cell_type": "code",
   "execution_count": 10,
   "metadata": {},
   "outputs": [
    {
     "data": {
      "text/plain": [
       "(276, 768, 768)"
      ]
     },
     "execution_count": 10,
     "metadata": {},
     "output_type": "execute_result"
    }
   ],
   "source": [
    "pth = '/media/medical/projects/head_and_neck/nnUnet/Task107_CTAV/results/107_FOLD-0_nnUNetTrainerV2_DP_change_normalization_learn_window_CHK-model_final_checkpoint/val/010.nii.gz'\n",
    "sitk_image = sitk.ReadImage(pth)\n",
    "image_ndarray = sitk.GetArrayFromImage(sitk_image)\n",
    "image_ndarray.shape"
   ]
  },
  {
   "cell_type": "code",
   "execution_count": 12,
   "metadata": {},
   "outputs": [],
   "source": [
    "verts, faces, norm, val = measure.marching_cubes(image_ndarray, spacing=sitk_image.GetSpacing()[::-1], allow_degenerate=True)"
   ]
  },
  {
   "cell_type": "code",
   "execution_count": 15,
   "metadata": {},
   "outputs": [
    {
     "data": {
      "text/plain": [
       "(array([[  6.90000027,  99.9375    , 143.8203125 ],\n",
       "        [  7.20000029,  99.9375    , 143.66015625],\n",
       "        [  7.20000029,  99.77734375, 143.8203125 ],\n",
       "        ...,\n",
       "        [130.50000519, 137.4140625 , 120.7578125 ],\n",
       "        [130.50000519, 137.734375  , 119.796875  ],\n",
       "        [130.50000519, 137.734375  , 120.1171875 ]]),\n",
       " (153510, 3))"
      ]
     },
     "execution_count": 15,
     "metadata": {},
     "output_type": "execute_result"
    }
   ],
   "source": [
    "verts, verts.shape"
   ]
  },
  {
   "cell_type": "code",
   "execution_count": 14,
   "metadata": {},
   "outputs": [],
   "source": [
    "np.savetxt('/media/medical/gasperp/projects/nnUnet_clone/nnUNet/nnunet/results/test.txt', verts)"
   ]
  },
  {
   "cell_type": "code",
   "execution_count": null,
   "metadata": {},
   "outputs": [],
   "source": []
  }
 ],
 "metadata": {
  "kernelspec": {
   "display_name": "base",
   "language": "python",
   "name": "python3"
  },
  "language_info": {
   "codemirror_mode": {
    "name": "ipython",
    "version": 3
   },
   "file_extension": ".py",
   "mimetype": "text/x-python",
   "name": "python",
   "nbconvert_exporter": "python",
   "pygments_lexer": "ipython3",
   "version": "3.10.8"
  },
  "orig_nbformat": 4,
  "vscode": {
   "interpreter": {
    "hash": "d4d1e4263499bec80672ea0156c357c1ee493ec2b1c70f0acce89fc37c4a6abe"
   }
  }
 },
 "nbformat": 4,
 "nbformat_minor": 2
}
