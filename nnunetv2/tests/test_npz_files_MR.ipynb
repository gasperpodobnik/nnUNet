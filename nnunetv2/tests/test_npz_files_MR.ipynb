{
 "cells": [
  {
   "cell_type": "code",
   "execution_count": 18,
   "metadata": {},
   "outputs": [],
   "source": [
    "import numpy as np\n",
    "import SimpleITK as sitk\n",
    "from matplotlib import pyplot as plt"
   ]
  },
  {
   "cell_type": "code",
   "execution_count": 19,
   "metadata": {},
   "outputs": [],
   "source": [
    "# note that .npy files are preferablly load (compared to .npz files)"
   ]
  },
  {
   "cell_type": "code",
   "execution_count": 20,
   "metadata": {},
   "outputs": [
    {
     "data": {
      "text/plain": [
       "memmap([[[[-1.1201875 , -1.1201875 , -1.1201875 , ..., -1.1201875 ,\n",
       "           -1.1201875 , -1.1201875 ],\n",
       "          [-1.1201875 , -1.1201875 , -1.1201875 , ..., -1.1201875 ,\n",
       "           -1.1201875 , -1.1201875 ],\n",
       "          [-1.1201875 , -1.1201875 , -1.1201875 , ..., -1.1201875 ,\n",
       "           -1.1201875 , -1.1201875 ],\n",
       "          ...,\n",
       "          [-1.1201875 , -1.1201875 , -1.1201875 , ..., -1.1201875 ,\n",
       "           -1.1201875 , -1.1201875 ],\n",
       "          [-1.1201875 , -1.1201875 , -1.1201875 , ..., -1.1201875 ,\n",
       "           -1.1201875 , -1.1201875 ],\n",
       "          [-1.1201875 , -1.1201875 , -1.1201875 , ..., -1.1201875 ,\n",
       "           -1.1201875 , -1.1201875 ]],\n",
       "\n",
       "         [[-1.1201875 , -1.1201875 , -1.1201875 , ..., -1.1201875 ,\n",
       "           -1.1201875 , -1.1201875 ],\n",
       "          [-1.1201875 , -1.1201875 , -1.1201875 , ..., -1.1201875 ,\n",
       "           -1.1201875 , -1.1201875 ],\n",
       "          [-1.1201875 , -1.1201875 , -1.1201875 , ..., -1.1201875 ,\n",
       "           -1.1201875 , -1.1201875 ],\n",
       "          ...,\n",
       "          [-1.1201875 , -1.1201875 , -1.1201875 , ..., -1.1201875 ,\n",
       "           -1.1201875 , -1.1201875 ],\n",
       "          [-1.1201875 , -1.1201875 , -1.1201875 , ..., -1.1201875 ,\n",
       "           -1.1201875 , -1.1201875 ],\n",
       "          [-1.1201875 , -1.1201875 , -1.1201875 , ..., -1.1201875 ,\n",
       "           -1.1201875 , -1.1201875 ]],\n",
       "\n",
       "         [[-1.1201875 , -1.1201875 , -1.1201875 , ..., -1.1201875 ,\n",
       "           -1.1201875 , -1.1201875 ],\n",
       "          [-1.1201875 , -1.1201875 , -1.1201875 , ..., -1.1201875 ,\n",
       "           -1.1201875 , -1.1201875 ],\n",
       "          [-1.1201875 , -1.1201875 , -1.1201875 , ..., -1.1201875 ,\n",
       "           -1.1201875 , -1.1201875 ],\n",
       "          ...,\n",
       "          [-1.1201875 , -1.1201875 , -1.1201875 , ..., -1.1201875 ,\n",
       "           -1.1201875 , -1.1201875 ],\n",
       "          [-1.1201875 , -1.1201875 , -1.1201875 , ..., -1.1201875 ,\n",
       "           -1.1201875 , -1.1201875 ],\n",
       "          [-1.1201875 , -1.1201875 , -1.1201875 , ..., -1.1201875 ,\n",
       "           -1.1201875 , -1.1201875 ]],\n",
       "\n",
       "         ...,\n",
       "\n",
       "         [[-1.1201875 , -1.1201875 , -1.1201875 , ..., -1.1201875 ,\n",
       "           -1.1201875 , -1.1201875 ],\n",
       "          [-1.1201875 , -1.1201875 , -1.1201875 , ..., -1.1201875 ,\n",
       "           -1.1201875 , -1.1201875 ],\n",
       "          [-1.1201875 , -1.1201875 , -1.1201875 , ..., -1.1201875 ,\n",
       "           -1.1201875 , -1.1201875 ],\n",
       "          ...,\n",
       "          [-1.1201875 , -1.1201875 , -1.1201875 , ..., -1.1201875 ,\n",
       "           -1.1201875 , -1.1201875 ],\n",
       "          [-1.1201875 , -1.1201875 , -1.1201875 , ..., -1.1201875 ,\n",
       "           -1.1201875 , -1.1201875 ],\n",
       "          [-1.1201875 , -1.1201875 , -1.1201875 , ..., -1.1201875 ,\n",
       "           -1.1201875 , -1.1201875 ]],\n",
       "\n",
       "         [[-1.1201875 , -1.1201875 , -1.1201875 , ..., -1.1201875 ,\n",
       "           -1.1201875 , -1.1201875 ],\n",
       "          [-1.1201875 , -1.1201875 , -1.1201875 , ..., -1.1201875 ,\n",
       "           -1.1201875 , -1.1201875 ],\n",
       "          [-1.1201875 , -1.1201875 , -1.1201875 , ..., -1.1201875 ,\n",
       "           -1.1201875 , -1.1201875 ],\n",
       "          ...,\n",
       "          [-1.1201875 , -1.1201875 , -1.1201875 , ..., -1.1201875 ,\n",
       "           -1.1201875 , -1.1201875 ],\n",
       "          [-1.1201875 , -1.1201875 , -1.1201875 , ..., -1.1201875 ,\n",
       "           -1.1201875 , -1.1201875 ],\n",
       "          [-1.1201875 , -1.1201875 , -1.1201875 , ..., -1.1201875 ,\n",
       "           -1.1201875 , -1.1201875 ]],\n",
       "\n",
       "         [[-1.1201875 , -1.1201875 , -1.1201875 , ..., -1.1201875 ,\n",
       "           -1.1201875 , -1.1201875 ],\n",
       "          [-1.1201875 , -1.1201875 , -1.1201875 , ..., -1.1201875 ,\n",
       "           -1.1201875 , -1.1201875 ],\n",
       "          [-1.1201875 , -1.1201875 , -1.1201875 , ..., -1.1201875 ,\n",
       "           -1.1201875 , -1.1201875 ],\n",
       "          ...,\n",
       "          [-1.1201875 , -1.1201875 , -1.1201875 , ..., -1.1201875 ,\n",
       "           -1.1201875 , -1.1201875 ],\n",
       "          [-1.1201875 , -1.1201875 , -1.1201875 , ..., -1.1201875 ,\n",
       "           -1.1201875 , -1.1201875 ],\n",
       "          [-1.1201875 , -1.1201875 , -1.1201875 , ..., -1.1201875 ,\n",
       "           -1.1201875 , -1.1201875 ]]],\n",
       "\n",
       "\n",
       "        [[[-0.55911165, -0.56031346, -0.5646018 , ..., -0.56658703,\n",
       "           -0.5611165 , -0.5600325 ],\n",
       "          [-0.5594484 , -0.5606546 , -0.5638922 , ..., -0.56663346,\n",
       "           -0.5639848 , -0.5604441 ],\n",
       "          [-0.5597582 , -0.56096905, -0.5621271 , ..., -0.56472945,\n",
       "           -0.56332946, -0.56083626],\n",
       "          ...,\n",
       "          [-0.54817724, -0.55027795, -0.55230206, ..., -0.55427235,\n",
       "           -0.55312765, -0.55193365],\n",
       "          [-0.5470338 , -0.54910004, -0.55109054, ..., -0.5516147 ,\n",
       "           -0.55049497, -0.54932576],\n",
       "          [-0.5458667 , -0.5478981 , -0.5498545 , ..., -0.5489093 ,\n",
       "           -0.5478156 , -0.5466726 ]],\n",
       "\n",
       "         [[-0.5605207 , -0.5618329 , -0.56344473, ..., -0.56882256,\n",
       "           -0.56317043, -0.565901  ],\n",
       "          [-0.56086475, -0.56218123, -0.56344473, ..., -0.5687167 ,\n",
       "           -0.5657065 , -0.56423134],\n",
       "          [-0.5611828 , -0.56250376, -0.5637714 , ..., -0.56739676,\n",
       "           -0.5658493 , -0.5648387 ],\n",
       "          ...,\n",
       "          [-0.55010515, -0.55218476, -0.5541849 , ..., -0.55629325,\n",
       "           -0.55517745, -0.55491227],\n",
       "          [-0.54894775, -0.5509922 , -0.5529579 , ..., -0.5536107 ,\n",
       "           -0.55251956, -0.5513773 ],\n",
       "          [-0.54776514, -0.54977405, -0.5517048 , ..., -0.55087984,\n",
       "           -0.5498145 , -0.548698  ]],\n",
       "\n",
       "         [[-0.5614867 , -0.5650056 , -0.56923246, ..., -0.57295454,\n",
       "           -0.5646746 , -0.57128567],\n",
       "          [-0.5618389 , -0.56429166, -0.5658593 , ..., -0.57253724,\n",
       "           -0.5689134 , -0.5685714 ],\n",
       "          [-0.56216615, -0.563595  , -0.5649697 , ..., -0.5698475 ,\n",
       "           -0.567801  , -0.5682589 ],\n",
       "          ...,\n",
       "          [-0.5517032 , -0.5537605 , -0.5557355 , ..., -0.5584353 ,\n",
       "           -0.55707544, -0.55661356],\n",
       "          [-0.55053246, -0.55255395, -0.5544937 , ..., -0.5552471 ,\n",
       "           -0.55418295, -0.55306584],\n",
       "          [-0.549335  , -0.5513201 , -0.5532243 , ..., -0.5524965 ,\n",
       "           -0.5514579 , -0.55036634]],\n",
       "\n",
       "         ...,\n",
       "\n",
       "         [[-0.5556304 , -0.55644834, -0.55723107, ..., -0.5579161 ,\n",
       "           -0.5571833 , -0.55641234],\n",
       "          [-0.5559362 , -0.5567533 , -0.5575349 , ..., -0.55832154,\n",
       "           -0.5575871 , -0.5568143 ],\n",
       "          [-0.55622303, -0.5570391 , -0.55781966, ..., -0.55870694,\n",
       "           -0.557971  , -0.5571963 ],\n",
       "          ...,\n",
       "          [-0.55966985, -0.5613401 , -0.56328726, ..., -0.56122714,\n",
       "           -0.56251186, -0.56036574],\n",
       "          [-0.5594115 , -0.5602319 , -0.56178427, ..., -0.5598786 ,\n",
       "           -0.5590965 , -0.55776745],\n",
       "          [-0.5591351 , -0.55995476, -0.56266946, ..., -0.5589378 ,\n",
       "           -0.5581824 , -0.5573878 ]],\n",
       "\n",
       "         [[-0.5538701 , -0.5546877 , -0.5554704 , ..., -0.5564629 ,\n",
       "           -0.5557291 , -0.5549572 ],\n",
       "          [-0.5541785 , -0.55499494, -0.5557764 , ..., -0.55688995,\n",
       "           -0.55615455, -0.5553808 ],\n",
       "          [-0.5544675 , -0.5552829 , -0.55606323, ..., -0.5572969 ,\n",
       "           -0.5565598 , -0.5557844 ],\n",
       "          ...,\n",
       "          [-0.5586078 , -0.56028396, -0.561878  , ..., -0.5656572 ,\n",
       "           -0.5682154 , -0.56552637],\n",
       "          [-0.5583498 , -0.5597259 , -0.5613107 , ..., -0.56223863,\n",
       "           -0.5599187 , -0.5600165 ],\n",
       "          [-0.5580735 , -0.5588962 , -0.5615109 , ..., -0.55757654,\n",
       "           -0.5568149 , -0.5560143 ]],\n",
       "\n",
       "         [[-0.55174434, -0.55256087, -0.55334294, ..., -0.5546801 ,\n",
       "           -0.5539457 , -0.5531736 ],\n",
       "          [-0.5520547 , -0.5528701 , -0.5536509 , ..., -0.5551287 ,\n",
       "           -0.5543927 , -0.5536188 ],\n",
       "          [-0.5523456 , -0.5531597 , -0.5539391 , ..., -0.555557  ,\n",
       "           -0.5548194 , -0.55404365],\n",
       "          ...,\n",
       "          [-0.55722344, -0.5603153 , -0.56433904, ..., -0.5637157 ,\n",
       "           -0.56472313, -0.56414443],\n",
       "          [-0.55696535, -0.55915236, -0.56286347, ..., -0.5616069 ,\n",
       "           -0.5590344 , -0.5609705 ],\n",
       "          [-0.55668914, -0.55751365, -0.56174725, ..., -0.55586755,\n",
       "           -0.5551001 , -0.5542941 ]]]], dtype=float32)"
      ]
     },
     "execution_count": 20,
     "metadata": {},
     "output_type": "execute_result"
    }
   ],
   "source": [
    "file1 = '/storage/nnUnet/nnUNet_preprocessed/Dataset213_ONKOI-all-from-208/nnUNetPlans_3d_fullres/ONKOI-all-from-208_001.npy'\n",
    "data = np.load(file1, 'r')\n",
    "data"
   ]
  },
  {
   "cell_type": "code",
   "execution_count": 21,
   "metadata": {},
   "outputs": [
    {
     "data": {
      "text/plain": [
       "(2, 115, 543, 705)"
      ]
     },
     "execution_count": 21,
     "metadata": {},
     "output_type": "execute_result"
    }
   ],
   "source": [
    "data.shape"
   ]
  },
  {
   "cell_type": "code",
   "execution_count": 22,
   "metadata": {},
   "outputs": [],
   "source": [
    "ct_sitk = sitk.GetImageFromArray(data[0])\n",
    "mr_sitk = sitk.GetImageFromArray(data[1])\n",
    "ct_sitk.SetSpacing([0.5,0.5,2])\n",
    "mr_sitk.SetSpacing([0.5,0.5,2])"
   ]
  },
  {
   "cell_type": "code",
   "execution_count": 23,
   "metadata": {},
   "outputs": [],
   "source": [
    "sitk.WriteImage(ct_sitk, '/media/medical/gasperp/projects/nnUnetv2_clone/nnUNet/nnunetv2/tests/001_ct.nii.gz')\n",
    "sitk.WriteImage(mr_sitk, '/media/medical/gasperp/projects/nnUnetv2_clone/nnUNet/nnunetv2/tests/001_mr.nii.gz')"
   ]
  },
  {
   "cell_type": "code",
   "execution_count": 24,
   "metadata": {},
   "outputs": [
    {
     "data": {
      "text/plain": [
       "(array([5.8830000e+03, 2.6530365e+07, 4.1679480e+06, 5.4639100e+05,\n",
       "        3.6656600e+05, 3.0346400e+05, 3.1235600e+05, 3.6136000e+05,\n",
       "        4.0367800e+05, 4.2171600e+05, 4.2972000e+05, 4.3775100e+05,\n",
       "        4.4791500e+05, 4.5475000e+05, 4.6403700e+05, 4.7863800e+05,\n",
       "        5.0563900e+05, 5.3641000e+05, 5.7721500e+05, 6.1731000e+05,\n",
       "        6.5362900e+05, 6.8864600e+05, 7.3691500e+05, 7.4394700e+05,\n",
       "        6.2237400e+05, 4.5675200e+05, 3.3819700e+05, 2.6002900e+05,\n",
       "        2.0265000e+05, 1.6230800e+05, 1.3187200e+05, 1.0803400e+05,\n",
       "        8.9433000e+04, 7.3863000e+04, 6.0468000e+04, 5.0493000e+04,\n",
       "        4.2093000e+04, 3.5738000e+04, 2.9804000e+04, 2.4794000e+04,\n",
       "        2.0946000e+04, 1.7495000e+04, 1.4587000e+04, 1.2266000e+04,\n",
       "        1.0699000e+04, 8.7780000e+03, 7.4840000e+03, 6.5240000e+03,\n",
       "        5.7210000e+03, 3.8074000e+04]),\n",
       " array([-0.77316153, -0.65736675, -0.54157197, -0.42577723, -0.30998248,\n",
       "        -0.1941877 , -0.07839294,  0.03740183,  0.1531966 ,  0.26899135,\n",
       "         0.38478613,  0.50058091,  0.61637568,  0.7321704 ,  0.84796518,\n",
       "         0.96375996,  1.07955468,  1.19534945,  1.31114423,  1.42693901,\n",
       "         1.54273379,  1.65852857,  1.77432334,  1.89011812,  2.00591278,\n",
       "         2.12170768,  2.23750234,  2.35329723,  2.46909189,  2.58488679,\n",
       "         2.70068145,  2.81647611,  2.932271  ,  3.04806566,  3.16386056,\n",
       "         3.27965522,  3.39545012,  3.51124477,  3.62703967,  3.74283433,\n",
       "         3.85862923,  3.97442389,  4.09021854,  4.2060132 ,  4.32180834,\n",
       "         4.437603  ,  4.55339766,  4.66919231,  4.78498745,  4.90078211,\n",
       "         5.01657677]),\n",
       " <BarContainer object of 50 artists>)"
      ]
     },
     "execution_count": 24,
     "metadata": {},
     "output_type": "execute_result"
    },
    {
     "data": {
      "image/png": "[encoded data removed]",
      "text/plain": [
       "<Figure size 640x480 with 1 Axes>"
      ]
     },
     "metadata": {},
     "output_type": "display_data"
    }
   ],
   "source": [
    "plt.figure()\n",
    "plt.hist(data[0].flatten(), bins=50)\n",
    "plt.hist(data[1].flatten(), bins=50)"
   ]
  },
  {
   "cell_type": "code",
   "execution_count": 30,
   "metadata": {},
   "outputs": [],
   "source": [
    "from dipy.denoise.gibbs import gibbs_removal"
   ]
  },
  {
   "cell_type": "code",
   "execution_count": 31,
   "metadata": {},
   "outputs": [
    {
     "data": {
      "text/plain": [
       "(115, 543, 705)"
      ]
     },
     "execution_count": 31,
     "metadata": {},
     "output_type": "execute_result"
    }
   ],
   "source": [
    "unringed_volume = gibbs_removal(data[1], slice_axis=0, num_processes=8, inplace=False)\n",
    "unringed_volume.shape"
   ]
  },
  {
   "cell_type": "code",
   "execution_count": 32,
   "metadata": {},
   "outputs": [],
   "source": [
    "mr_sitk_denoised = sitk.GetImageFromArray(unringed_volume)\n",
    "mr_sitk_denoised.SetSpacing([0.5,0.5,2])\n",
    "sitk.WriteImage(mr_sitk_denoised, '/media/medical/gasperp/projects/nnUnetv2_clone/nnUNet/nnunetv2/tests/001_mr_denoised.nii.gz')"
   ]
  },
  {
   "cell_type": "code",
   "execution_count": 50,
   "metadata": {},
   "outputs": [],
   "source": [
    "fltr = sitk.GradientAnisotropicDiffusionImageFilter()\n",
    "fltr.SetConductanceParameter(3.0) # default is 3.0\n",
    "fltr.SetNumberOfIterations(2) # default is 5\n",
    "fltr.SetTimeStep(0.03) # default is 0.125\n",
    "mr_sitk_grd_ans = fltr.Execute(mr_sitk)"
   ]
  },
  {
   "cell_type": "code",
   "execution_count": 51,
   "metadata": {},
   "outputs": [
    {
     "data": {
      "text/plain": [
       "3.0"
      ]
     },
     "execution_count": 51,
     "metadata": {},
     "output_type": "execute_result"
    }
   ],
   "source": [
    "fltr.GetConductanceParameter()"
   ]
  },
  {
   "cell_type": "code",
   "execution_count": 52,
   "metadata": {},
   "outputs": [
    {
     "data": {
      "text/plain": [
       "2"
      ]
     },
     "execution_count": 52,
     "metadata": {},
     "output_type": "execute_result"
    }
   ],
   "source": [
    "fltr.GetNumberOfIterations()"
   ]
  },
  {
   "cell_type": "code",
   "execution_count": 53,
   "metadata": {},
   "outputs": [
    {
     "data": {
      "text/plain": [
       "<SimpleITK.SimpleITK.Image; proxy of <Swig Object of type 'std::vector< itk::simple::Image >::value_type *' at 0x7f0a1c80b720> >"
      ]
     },
     "execution_count": 53,
     "metadata": {},
     "output_type": "execute_result"
    }
   ],
   "source": [
    "mr_sitk_grd_ans"
   ]
  },
  {
   "cell_type": "code",
   "execution_count": 54,
   "metadata": {},
   "outputs": [],
   "source": [
    "sitk.WriteImage(mr_sitk_grd_ans, '/media/medical/gasperp/projects/nnUnetv2_clone/nnUNet/nnunetv2/tests/001_mr_sitk_grd_ans.nii.gz')"
   ]
  },
  {
   "cell_type": "code",
   "execution_count": null,
   "metadata": {},
   "outputs": [],
   "source": []
  }
 ],
 "metadata": {
  "kernelspec": {
   "display_name": "Python 3",
   "language": "python",
   "name": "python3"
  },
  "language_info": {
   "codemirror_mode": {
    "name": "ipython",
    "version": 3
   },
   "file_extension": ".py",
   "mimetype": "text/x-python",
   "name": "python",
   "nbconvert_exporter": "python",
   "pygments_lexer": "ipython3",
   "version": "2.7.0"
  },
  "orig_nbformat": 4
 },
 "nbformat": 4,
 "nbformat_minor": 2
}
